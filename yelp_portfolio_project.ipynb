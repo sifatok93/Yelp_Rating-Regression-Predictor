{
 "cells": [
  {
   "cell_type": "markdown",
   "metadata": {},
   "source": [
    "# Portfolio Project on Module 2: Yelp Rating Regression Predictor\n",
    "## Sifa Tok\n",
    "\n",
    "\n"
   ]
  },
  {
   "cell_type": "markdown",
   "metadata": {},
   "source": [
    "## Table of Contents:\n",
    "* [Goal](#goal)\n",
    "    * [Target Variables](#target_variables)\n",
    "* [Importing Necessary Packages](#import_package)\n",
    "* [Data Set](#data_set)\n",
    "    * [Merge all features](#merge1)\n",
    "* [Scrubbing the Data](#clean1)\n",
    "    * [Exploratory Anlaysis](#eda1)\n",
    "    * [Conclusion](#conclusion1)\n",
    "* [Data Selection](#data_select)\n",
    "    * [Conclusion](#conclusion2)\n",
    "* [Feature Selection](#feature_select)\n",
    "    * [Define Different Subsets of Data](#subset_data)\n",
    "    * [Conclusion](#conclusion3)\n",
    "* [References](#References)"
   ]
  },
  {
   "cell_type": "markdown",
   "metadata": {},
   "source": [
    "## Goal <a class=\"anchor\" id=\"goal\"></a>\n",
    "In module 2 project, the datasets in '.json files' are explored. the aim of this project is to provide assistance to the decision making of the buyers/investors and investigate what factors most affect a restaurant's Yelp rating and predict the Yelp rating for our restaurant with a dataset of different restaurant features and their Yelp ratings. In addition, Multiple Linear Regression analysys peformed to provide accurate predictions for ratings.\n",
    "\n",
    "The restaurant industry is tougher than ever, with restaurant reviews blazing across the Internet from day one of a restaurant's opening. We decide to break into the industry and open up our own restaurant, One Kebap House. Since a restaurant's success is highly correlated with its reputation, we want to make sure One Kebap House has the best reviews on the most queried restaurant review site: Yelp! While we know your food will be delicious, we think there are other factors that play into a Yelp rating and will ultimately determine our business's success. \n",
    "\n",
    "In this project we'll be working with a real dataset provided by Yelp. For a more detailed explanation of the **target variables**<a class=\"anchor\" id=\"target_variables\"></a> in each .json file, see the accompanyin [explanatory feature document](https://docs.google.com/document/d/1V6FjJpKspVBOOBs4E7fBfp_yzHn0--XJkC2uUtWuRgM/edit).\n",
    "\n",
    "\n"
   ]
  },
  {
   "cell_type": "markdown",
   "metadata": {},
   "source": [
    "## Importing Necessary Packages<a class=\"anchor\" id=\"import_package\"></a>\n",
    "\n",
    "To get a better understanding of the dataset we imported a few neessary packages."
   ]
  },
  {
   "cell_type": "code",
   "execution_count": 1,
   "metadata": {},
   "outputs": [],
   "source": [
    "import pandas as pd\n",
    "import seaborn as sns\n",
    "import numpy as np\n",
    "import matplotlib.pyplot as plt\n",
    "import missingno as msno\n",
    "from scipy import stats\n",
    "from sklearn.linear_model import LinearRegression\n",
    "from sklearn.model_selection import train_test_split\n",
    "%matplotlib inline\n",
    "plt.rcParams['figure.figsize'] = [20, 10]\n",
    "pd.options.display.max_columns = 41\n",
    "pd.options.display.max_colwidth = 100"
   ]
  },
  {
   "cell_type": "markdown",
   "metadata": {},
   "source": [
    "## Data Set <a class=\"anchor\" id=\"data_set\"></a>"
   ]
  },
  {
   "cell_type": "code",
   "execution_count": 2,
   "metadata": {},
   "outputs": [],
   "source": [
    "# checkins = pd.read_json('yelp_checkin.json', lines=True)\n",
    "# data = pd.read_json('yelp_data.json', lines=True)\n",
    "# photos = pd.read_json('yelp_photo.json', lines=True)\n",
    "# reviews = pd.read_json('yelp_review.json', lines=True)\n",
    "# tips = pd.read_json('yelp_tip.json', lines=True)\n",
    "# users = pd.read_json('yelp_user.json', lines=True)"
   ]
  },
  {
   "cell_type": "markdown",
   "metadata": {},
   "source": [
    "### Merge all features <a class=\"anchor\" id=\"merge1\"></a>\n",
    "\n",
    "Since we are working with data from several files, we need to combine the data into a single DataFrame that allows us to analyze the different features with respect to our target variable, the Yelp rating. We merged all dataframes to one single dataframe which is data."
   ]
  },
  {
   "cell_type": "code",
   "execution_count": 3,
   "metadata": {},
   "outputs": [],
   "source": [
    "# for i in [checkins,photos,reviews,tips,users]:\n",
    "#     data = pd.merge(data, i, how='left', on='business_id')"
   ]
  },
  {
   "cell_type": "markdown",
   "metadata": {},
   "source": [
    "For don't waste time to read again and again the same json files. We wrote this data dataframe to a csv file and read from it. We can delete this line from final notebook"
   ]
  },
  {
   "cell_type": "code",
   "execution_count": 4,
   "metadata": {},
   "outputs": [],
   "source": [
    "# data.to_csv(\"merged_data.csv\")"
   ]
  },
  {
   "cell_type": "code",
   "execution_count": 2,
   "metadata": {},
   "outputs": [],
   "source": [
    "data =pd.read_csv(\"merged_data.csv\", index_col=0)"
   ]
  },
  {
   "cell_type": "markdown",
   "metadata": {},
   "source": [
    "## Scrubbing the Data <a class=\"anchor\" id=\"clean1\"></a>"
   ]
  },
  {
   "cell_type": "markdown",
   "metadata": {},
   "source": [
    "After obtaining our data, it is important to check the data type and missing values for each column. Now, we are going to clean our data. This step is important to decide which column type will remain same and which will be changed to categorical data type. In that way, we can focus on the features that might have predictive power for determining an establishment's Yelp rating.\n",
    "\n"
   ]
  },
  {
   "cell_type": "code",
   "execution_count": 3,
   "metadata": {},
   "outputs": [
    {
     "name": "stdout",
     "output_type": "stream",
     "text": [
      "<class 'pandas.core.frame.DataFrame'>\n",
      "Int64Index: 188593 entries, 0 to 188592\n",
      "Data columns (total 41 columns):\n",
      " #   Column                      Non-Null Count   Dtype  \n",
      "---  ------                      --------------   -----  \n",
      " 0   address                     180970 non-null  object \n",
      " 1   attributes                  162807 non-null  object \n",
      " 2   business_id                 188593 non-null  object \n",
      " 3   categories                  188052 non-null  object \n",
      " 4   city                        188583 non-null  object \n",
      " 5   hours                       143791 non-null  object \n",
      " 6   is_open                     188593 non-null  int64  \n",
      " 7   latitude                    188587 non-null  float64\n",
      " 8   longitude                   188587 non-null  float64\n",
      " 9   name                        188593 non-null  object \n",
      " 10  neighborhood                68655 non-null   object \n",
      " 11  postal_code                 187912 non-null  object \n",
      " 12  review_count                188593 non-null  int64  \n",
      " 13  stars                       188593 non-null  float64\n",
      " 14  state                       188593 non-null  object \n",
      " 15  alcohol?                    188593 non-null  int64  \n",
      " 16  has_bike_parking            188593 non-null  int64  \n",
      " 17  takes_credit_cards          188593 non-null  int64  \n",
      " 18  good_for_kids               188593 non-null  int64  \n",
      " 19  price_range                 188593 non-null  int64  \n",
      " 20  take_reservations           188593 non-null  int64  \n",
      " 21  has_wifi                    188593 non-null  int64  \n",
      " 22  pic_count                   32976 non-null   float64\n",
      " 23  time                        157075 non-null  object \n",
      " 24  weekday_checkins            157075 non-null  float64\n",
      " 25  weekend_checkins            157075 non-null  float64\n",
      " 26  average_caption_length      32976 non-null   float64\n",
      " 27  number_pics                 32976 non-null   float64\n",
      " 28  average_review_age          188593 non-null  float64\n",
      " 29  average_review_length       188593 non-null  float64\n",
      " 30  average_review_sentiment    188593 non-null  float64\n",
      " 31  number_funny_votes          188593 non-null  int64  \n",
      " 32  number_cool_votes           188593 non-null  int64  \n",
      " 33  number_useful_votes         188593 non-null  int64  \n",
      " 34  average_tip_length          121526 non-null  float64\n",
      " 35  number_tips                 121526 non-null  float64\n",
      " 36  average_number_friends      188593 non-null  float64\n",
      " 37  average_days_on_yelp        188593 non-null  float64\n",
      " 38  average_number_fans         188593 non-null  float64\n",
      " 39  average_review_count        188593 non-null  float64\n",
      " 40  average_number_years_elite  188593 non-null  float64\n",
      "dtypes: float64(18), int64(12), object(11)\n",
      "memory usage: 60.4+ MB\n"
     ]
    }
   ],
   "source": [
    "data.info()"
   ]
  },
  {
   "cell_type": "code",
   "execution_count": 5,
   "metadata": {},
   "outputs": [
    {
     "data": {
      "text/html": [
       "<div>\n",
       "<style scoped>\n",
       "    .dataframe tbody tr th:only-of-type {\n",
       "        vertical-align: middle;\n",
       "    }\n",
       "\n",
       "    .dataframe tbody tr th {\n",
       "        vertical-align: top;\n",
       "    }\n",
       "\n",
       "    .dataframe thead th {\n",
       "        text-align: right;\n",
       "    }\n",
       "</style>\n",
       "<table border=\"1\" class=\"dataframe\">\n",
       "  <thead>\n",
       "    <tr style=\"text-align: right;\">\n",
       "      <th></th>\n",
       "      <th>address</th>\n",
       "      <th>attributes</th>\n",
       "      <th>business_id</th>\n",
       "      <th>categories</th>\n",
       "      <th>city</th>\n",
       "      <th>hours</th>\n",
       "      <th>is_open</th>\n",
       "      <th>latitude</th>\n",
       "      <th>longitude</th>\n",
       "      <th>name</th>\n",
       "      <th>neighborhood</th>\n",
       "      <th>postal_code</th>\n",
       "      <th>review_count</th>\n",
       "      <th>stars</th>\n",
       "      <th>state</th>\n",
       "      <th>alcohol?</th>\n",
       "      <th>has_bike_parking</th>\n",
       "      <th>takes_credit_cards</th>\n",
       "      <th>good_for_kids</th>\n",
       "      <th>price_range</th>\n",
       "      <th>take_reservations</th>\n",
       "      <th>has_wifi</th>\n",
       "      <th>pic_count</th>\n",
       "      <th>time</th>\n",
       "      <th>weekday_checkins</th>\n",
       "      <th>weekend_checkins</th>\n",
       "      <th>average_caption_length</th>\n",
       "      <th>number_pics</th>\n",
       "      <th>average_review_age</th>\n",
       "      <th>average_review_length</th>\n",
       "      <th>average_review_sentiment</th>\n",
       "      <th>number_funny_votes</th>\n",
       "      <th>number_cool_votes</th>\n",
       "      <th>number_useful_votes</th>\n",
       "      <th>average_tip_length</th>\n",
       "      <th>number_tips</th>\n",
       "      <th>average_number_friends</th>\n",
       "      <th>average_days_on_yelp</th>\n",
       "      <th>average_number_fans</th>\n",
       "      <th>average_review_count</th>\n",
       "      <th>average_number_years_elite</th>\n",
       "    </tr>\n",
       "  </thead>\n",
       "  <tbody>\n",
       "    <tr>\n",
       "      <th>0</th>\n",
       "      <td>1314 44 Avenue NE</td>\n",
       "      <td>{'BikeParking': 'False', 'BusinessAcceptsCreditCards': 'True', 'BusinessParking': \"{'garage': Fa...</td>\n",
       "      <td>Apn5Q_b6Nz61Tq4XzPdf9A</td>\n",
       "      <td>Tours, Breweries, Pizza, Restaurants, Food, Hotels &amp; Travel</td>\n",
       "      <td>Calgary</td>\n",
       "      <td>{'Monday': '8:30-17:0', 'Tuesday': '11:0-21:0', 'Wednesday': '11:0-21:0', 'Thursday': '11:0-21:0...</td>\n",
       "      <td>1</td>\n",
       "      <td>51.091813</td>\n",
       "      <td>-114.031675</td>\n",
       "      <td>Minhas Micro Brewery</td>\n",
       "      <td>NaN</td>\n",
       "      <td>T2E 6L6</td>\n",
       "      <td>24</td>\n",
       "      <td>4.0</td>\n",
       "      <td>AB</td>\n",
       "      <td>0</td>\n",
       "      <td>0</td>\n",
       "      <td>1</td>\n",
       "      <td>1</td>\n",
       "      <td>2</td>\n",
       "      <td>1</td>\n",
       "      <td>0</td>\n",
       "      <td>NaN</td>\n",
       "      <td>{'Fri-0': 1, 'Sun-0': 3, 'Thu-0': 1, 'Fri-1': 1, 'Fri-16': 1, 'Tue-17': 1, 'Sat-18': 1, 'Tue-18'...</td>\n",
       "      <td>11.0</td>\n",
       "      <td>18.0</td>\n",
       "      <td>NaN</td>\n",
       "      <td>NaN</td>\n",
       "      <td>618.25</td>\n",
       "      <td>532.916667</td>\n",
       "      <td>0.865342</td>\n",
       "      <td>6</td>\n",
       "      <td>5</td>\n",
       "      <td>13</td>\n",
       "      <td>38.0</td>\n",
       "      <td>6.0</td>\n",
       "      <td>42.833333</td>\n",
       "      <td>1809.375</td>\n",
       "      <td>5.375</td>\n",
       "      <td>114.875</td>\n",
       "      <td>1.125</td>\n",
       "    </tr>\n",
       "  </tbody>\n",
       "</table>\n",
       "</div>"
      ],
      "text/plain": [
       "             address  \\\n",
       "0  1314 44 Avenue NE   \n",
       "\n",
       "                                                                                            attributes  \\\n",
       "0  {'BikeParking': 'False', 'BusinessAcceptsCreditCards': 'True', 'BusinessParking': \"{'garage': Fa...   \n",
       "\n",
       "              business_id  \\\n",
       "0  Apn5Q_b6Nz61Tq4XzPdf9A   \n",
       "\n",
       "                                                    categories     city  \\\n",
       "0  Tours, Breweries, Pizza, Restaurants, Food, Hotels & Travel  Calgary   \n",
       "\n",
       "                                                                                                 hours  \\\n",
       "0  {'Monday': '8:30-17:0', 'Tuesday': '11:0-21:0', 'Wednesday': '11:0-21:0', 'Thursday': '11:0-21:0...   \n",
       "\n",
       "   is_open   latitude   longitude                  name neighborhood  \\\n",
       "0        1  51.091813 -114.031675  Minhas Micro Brewery          NaN   \n",
       "\n",
       "  postal_code  review_count  stars state  alcohol?  has_bike_parking  \\\n",
       "0     T2E 6L6            24    4.0    AB         0                 0   \n",
       "\n",
       "   takes_credit_cards  good_for_kids  price_range  take_reservations  \\\n",
       "0                   1              1            2                  1   \n",
       "\n",
       "   has_wifi  pic_count  \\\n",
       "0         0        NaN   \n",
       "\n",
       "                                                                                                  time  \\\n",
       "0  {'Fri-0': 1, 'Sun-0': 3, 'Thu-0': 1, 'Fri-1': 1, 'Fri-16': 1, 'Tue-17': 1, 'Sat-18': 1, 'Tue-18'...   \n",
       "\n",
       "   weekday_checkins  weekend_checkins  average_caption_length  number_pics  \\\n",
       "0              11.0              18.0                     NaN          NaN   \n",
       "\n",
       "   average_review_age  average_review_length  average_review_sentiment  \\\n",
       "0              618.25             532.916667                  0.865342   \n",
       "\n",
       "   number_funny_votes  number_cool_votes  number_useful_votes  \\\n",
       "0                   6                  5                   13   \n",
       "\n",
       "   average_tip_length  number_tips  average_number_friends  \\\n",
       "0                38.0          6.0               42.833333   \n",
       "\n",
       "   average_days_on_yelp  average_number_fans  average_review_count  \\\n",
       "0              1809.375                5.375               114.875   \n",
       "\n",
       "   average_number_years_elite  \n",
       "0                       1.125  "
      ]
     },
     "execution_count": 5,
     "metadata": {},
     "output_type": "execute_result"
    }
   ],
   "source": [
    "data.head(1)"
   ]
  },
  {
   "cell_type": "markdown",
   "metadata": {},
   "source": [
    "When predicting yelp rating, we are focusing on the features that might have predictive power for determining an establishment's Yelp rating. There are some continuous variables that have an affect on our dependent variable. For that reason, we removed any columns in the dataset that are not continuous or binary, and that we do not want to make predictions on. The cell below contains a list of these unnecessary features."
   ]
  },
  {
   "cell_type": "code",
   "execution_count": 4,
   "metadata": {},
   "outputs": [],
   "source": [
    "features_to_remove = [\"address\", \"attributes\",\"business_id\",\"city\",\"hours\",\"latitude\",\n",
    "                      \"longitude\",\"name\",\"neighborhood\",\"postal_code\",\"state\",\"time\",\"number_pics\",\n",
    "                     \"average_caption_length\",]\n",
    "data.fillna({\"pic_count\":0},inplace=True)\n",
    "\n",
    "data = data.dropna(subset=['categories'])\n",
    "\n",
    "data.drop(features_to_remove, axis=1, inplace=True)"
   ]
  },
  {
   "cell_type": "markdown",
   "metadata": {},
   "source": [
    "We removed unuseful and duplicated features. Filled null values with 0 in pic_count feature. Dropped approximately 500 rows with nulls in categories for preventing errors in further steps."
   ]
  },
  {
   "cell_type": "code",
   "execution_count": 5,
   "metadata": {},
   "outputs": [
    {
     "data": {
      "text/plain": [
       "<AxesSubplot:>"
      ]
     },
     "execution_count": 5,
     "metadata": {},
     "output_type": "execute_result"
    },
    {
     "data": {
      "image/png": "[encoded data removed]",
      "text/plain": [
       "<Figure size 1800x720 with 2 Axes>"
      ]
     },
     "metadata": {
      "needs_background": "light"
     },
     "output_type": "display_data"
    }
   ],
   "source": [
    "msno.matrix(data)"
   ]
  },
  {
   "cell_type": "markdown",
   "metadata": {},
   "source": [
    "Checked missing values with missingno and obseverd 23 of 27 features don't have null values"
   ]
  },
  {
   "cell_type": "markdown",
   "metadata": {},
   "source": [
    "We are looking data to decide how to fill missing values"
   ]
  },
  {
   "cell_type": "code",
   "execution_count": 6,
   "metadata": {},
   "outputs": [
    {
     "data": {
      "text/html": [
       "<div>\n",
       "<style scoped>\n",
       "    .dataframe tbody tr th:only-of-type {\n",
       "        vertical-align: middle;\n",
       "    }\n",
       "\n",
       "    .dataframe tbody tr th {\n",
       "        vertical-align: top;\n",
       "    }\n",
       "\n",
       "    .dataframe thead th {\n",
       "        text-align: right;\n",
       "    }\n",
       "</style>\n",
       "<table border=\"1\" class=\"dataframe\">\n",
       "  <thead>\n",
       "    <tr style=\"text-align: right;\">\n",
       "      <th></th>\n",
       "      <th>weekday_checkins</th>\n",
       "      <th>weekend_checkins</th>\n",
       "      <th>average_tip_length</th>\n",
       "      <th>number_tips</th>\n",
       "    </tr>\n",
       "  </thead>\n",
       "  <tbody>\n",
       "    <tr>\n",
       "      <th>count</th>\n",
       "      <td>156796.000000</td>\n",
       "      <td>156796.000000</td>\n",
       "      <td>121376.000000</td>\n",
       "      <td>121376.000000</td>\n",
       "    </tr>\n",
       "    <tr>\n",
       "      <th>mean</th>\n",
       "      <td>54.580519</td>\n",
       "      <td>59.665176</td>\n",
       "      <td>70.829642</td>\n",
       "      <td>9.762943</td>\n",
       "    </tr>\n",
       "    <tr>\n",
       "      <th>std</th>\n",
       "      <td>361.865282</td>\n",
       "      <td>363.839098</td>\n",
       "      <td>51.672223</td>\n",
       "      <td>32.011216</td>\n",
       "    </tr>\n",
       "    <tr>\n",
       "      <th>min</th>\n",
       "      <td>0.000000</td>\n",
       "      <td>0.000000</td>\n",
       "      <td>1.000000</td>\n",
       "      <td>1.000000</td>\n",
       "    </tr>\n",
       "    <tr>\n",
       "      <th>25%</th>\n",
       "      <td>2.000000</td>\n",
       "      <td>2.000000</td>\n",
       "      <td>44.538462</td>\n",
       "      <td>1.000000</td>\n",
       "    </tr>\n",
       "    <tr>\n",
       "      <th>50%</th>\n",
       "      <td>8.000000</td>\n",
       "      <td>7.000000</td>\n",
       "      <td>60.000000</td>\n",
       "      <td>3.000000</td>\n",
       "    </tr>\n",
       "    <tr>\n",
       "      <th>75%</th>\n",
       "      <td>31.000000</td>\n",
       "      <td>31.000000</td>\n",
       "      <td>79.800000</td>\n",
       "      <td>7.000000</td>\n",
       "    </tr>\n",
       "    <tr>\n",
       "      <th>max</th>\n",
       "      <td>73830.000000</td>\n",
       "      <td>64647.000000</td>\n",
       "      <td>500.000000</td>\n",
       "      <td>3581.000000</td>\n",
       "    </tr>\n",
       "  </tbody>\n",
       "</table>\n",
       "</div>"
      ],
      "text/plain": [
       "       weekday_checkins  weekend_checkins  average_tip_length    number_tips\n",
       "count     156796.000000     156796.000000       121376.000000  121376.000000\n",
       "mean          54.580519         59.665176           70.829642       9.762943\n",
       "std          361.865282        363.839098           51.672223      32.011216\n",
       "min            0.000000          0.000000            1.000000       1.000000\n",
       "25%            2.000000          2.000000           44.538462       1.000000\n",
       "50%            8.000000          7.000000           60.000000       3.000000\n",
       "75%           31.000000         31.000000           79.800000       7.000000\n",
       "max        73830.000000      64647.000000          500.000000    3581.000000"
      ]
     },
     "execution_count": 6,
     "metadata": {},
     "output_type": "execute_result"
    }
   ],
   "source": [
    "data[[\"weekday_checkins\",\"weekend_checkins\",\"average_tip_length\",\"number_tips\"]].describe()"
   ]
  },
  {
   "cell_type": "code",
   "execution_count": 9,
   "metadata": {},
   "outputs": [
    {
     "data": {
      "text/plain": [
       "NaN      0.355618\n",
       "1.0      0.190633\n",
       "2.0      0.106579\n",
       "3.0      0.066614\n",
       "4.0      0.044800\n",
       "           ...   \n",
       "589.0    0.000005\n",
       "489.0    0.000005\n",
       "948.0    0.000005\n",
       "421.0    0.000005\n",
       "568.0    0.000005\n",
       "Name: number_tips, Length: 441, dtype: float64"
      ]
     },
     "execution_count": 9,
     "metadata": {},
     "output_type": "execute_result"
    }
   ],
   "source": [
    "data.number_tips.value_counts(normalize=True, dropna=False)"
   ]
  },
  {
   "cell_type": "code",
   "execution_count": 10,
   "metadata": {},
   "outputs": [
    {
     "data": {
      "text/plain": [
       "NaN           0.355618\n",
       "55.000000     0.003950\n",
       "58.000000     0.003924\n",
       "48.000000     0.003844\n",
       "53.000000     0.003797\n",
       "                ...   \n",
       "223.666667    0.000005\n",
       "50.762712     0.000005\n",
       "58.960000     0.000005\n",
       "77.294118     0.000005\n",
       "44.789474     0.000005\n",
       "Name: average_tip_length, Length: 16553, dtype: float64"
      ]
     },
     "execution_count": 10,
     "metadata": {},
     "output_type": "execute_result"
    }
   ],
   "source": [
    "data.average_tip_length.value_counts(normalize=True, dropna=False)"
   ]
  },
  {
   "cell_type": "code",
   "execution_count": 11,
   "metadata": {},
   "outputs": [
    {
     "data": {
      "text/plain": [
       "NaN       0.167122\n",
       "1.0       0.101032\n",
       "0.0       0.081843\n",
       "2.0       0.065819\n",
       "3.0       0.048438\n",
       "            ...   \n",
       "2088.0    0.000005\n",
       "1663.0    0.000005\n",
       "1692.0    0.000005\n",
       "9849.0    0.000005\n",
       "1571.0    0.000005\n",
       "Name: weekend_checkins, Length: 1910, dtype: float64"
      ]
     },
     "execution_count": 11,
     "metadata": {},
     "output_type": "execute_result"
    }
   ],
   "source": [
    "data.weekend_checkins.value_counts(normalize=True, dropna=False)"
   ]
  },
  {
   "cell_type": "code",
   "execution_count": 12,
   "metadata": {},
   "outputs": [
    {
     "data": {
      "text/plain": [
       "NaN       0.167122\n",
       "1.0       0.102533\n",
       "2.0       0.068926\n",
       "0.0       0.062531\n",
       "3.0       0.049901\n",
       "            ...   \n",
       "1725.0    0.000005\n",
       "1462.0    0.000005\n",
       "2423.0    0.000005\n",
       "2911.0    0.000005\n",
       "4262.0    0.000005\n",
       "Name: weekday_checkins, Length: 1759, dtype: float64"
      ]
     },
     "execution_count": 12,
     "metadata": {},
     "output_type": "execute_result"
    }
   ],
   "source": [
    "data.weekday_checkins.value_counts(normalize=True, dropna=False)"
   ]
  },
  {
   "cell_type": "markdown",
   "metadata": {},
   "source": [
    "It seems there are some outliers so it is good to use median or mode to not add bias.\n",
    "We copied data to use it for different combinations of filling missing values. Since the data seems still valuable and we would like to compare the results by both keeping and dropping data. \n",
    "\n",
    "\n",
    "***"
   ]
  },
  {
   "cell_type": "code",
   "execution_count": 7,
   "metadata": {},
   "outputs": [],
   "source": [
    "dataNotMissingFeatures = data.copy()\n",
    "dataFiiledMean = data.copy()\n",
    "dataFiiledMedian = data.copy()\n",
    "dataFiiledMode = data.copy()"
   ]
  },
  {
   "cell_type": "markdown",
   "metadata": {},
   "source": [
    "We copy data to use it for diffirent combinations to fill missing values"
   ]
  },
  {
   "cell_type": "code",
   "execution_count": 8,
   "metadata": {},
   "outputs": [],
   "source": [
    "dataNotMissingFeatures.drop([\"weekday_checkins\", \"weekend_checkins\", \"average_tip_length\", \"number_tips\"], axis=1, inplace=True)"
   ]
  },
  {
   "cell_type": "markdown",
   "metadata": {},
   "source": [
    "To compare different models first we prepared one dataframe by droping features that has missing values."
   ]
  },
  {
   "cell_type": "code",
   "execution_count": 9,
   "metadata": {},
   "outputs": [],
   "source": [
    "dataFiiledMean.fillna({'weekday_checkins':dataFiiledMean['weekday_checkins'].mean(),\n",
    "           'weekend_checkins':dataFiiledMean['weekend_checkins'].mean(),\n",
    "           'average_tip_length':dataFiiledMean['average_tip_length'].mean(),\n",
    "           'number_tips':dataFiiledMean['number_tips'].mean()},\n",
    "          inplace=True)\n",
    "dataFiiledMedian.fillna({'weekday_checkins':dataFiiledMedian['weekday_checkins'].median(),\n",
    "           'weekend_checkins':dataFiiledMedian['weekend_checkins'].median(),\n",
    "           'average_tip_length':dataFiiledMedian['average_tip_length'].median(),\n",
    "           'number_tips':dataFiiledMedian['number_tips'].median()},\n",
    "          inplace=True)\n",
    "dataFiiledMode.fillna({'weekday_checkins':dataFiiledMode['weekday_checkins'].mode()[0],\n",
    "           'weekend_checkins':dataFiiledMode['weekend_checkins'].mode()[0],\n",
    "           'average_tip_length':dataFiiledMode['average_tip_length'].mode()[0],\n",
    "           'number_tips':dataFiiledMode['number_tips'].mode()[0]},\n",
    "          inplace=True)\n"
   ]
  },
  {
   "cell_type": "markdown",
   "metadata": {},
   "source": [
    "The *'weekday_checkins', 'weekend_checkins', 'average_tip_length' and 'number_tips'* columns have missing values. There are not given a value in these columns. When we analyzed the data, we can predicted that there might no checkins on weekends or weekdays. Therefore, no data was entered. Also when we look at the 'number_tips', it is not necessary to give a tip, so there might be missing data in this column. However, by filling the data with mean, median and mode , we wouldn't lose any data."
   ]
  },
  {
   "cell_type": "markdown",
   "metadata": {},
   "source": [
    "### Exploratory Analysis<a class=\"anchor\" id=\"eda1\"></a>\n",
    "\n",
    "Now, our data is all together. It is essential to see what might correlate most with our dependent variable, the Yelp rating. We would like to know which features are most important to predict our target variable. For this reason, we used the .corr() method that allows us to see the correlation coefficients for each pair of our different features."
   ]
  },
  {
   "cell_type": "code",
   "execution_count": 12,
   "metadata": {},
   "outputs": [],
   "source": [
    "dataFiiledMedianWOCat = dataFiiledMedian.drop([\"categories\"], axis=1)"
   ]
  },
  {
   "cell_type": "markdown",
   "metadata": {},
   "source": [
    "We droped categories feature from dataFilledMedian dataframe as its type is object"
   ]
  },
  {
   "cell_type": "code",
   "execution_count": 13,
   "metadata": {},
   "outputs": [
    {
     "data": {
      "text/plain": [
       "average_review_length        -0.277069\n",
       "average_review_age           -0.127189\n",
       "average_review_count         -0.067983\n",
       "average_number_years_elite   -0.066703\n",
       "price_range                  -0.056562\n",
       "alcohol?                     -0.045047\n",
       "has_wifi                     -0.041550\n",
       "average_days_on_yelp         -0.039449\n",
       "average_tip_length           -0.036605\n",
       "good_for_kids                -0.032849\n",
       "average_number_fans          -0.032337\n",
       "take_reservations            -0.025859\n",
       "average_number_friends       -0.008840\n",
       "number_useful_votes          -0.000735\n",
       "number_funny_votes            0.000877\n",
       "pic_count                     0.001081\n",
       "weekday_checkins              0.004097\n",
       "weekend_checkins              0.007743\n",
       "number_tips                   0.016108\n",
       "review_count                  0.031607\n",
       "takes_credit_cards            0.032272\n",
       "number_cool_votes             0.042794\n",
       "is_open                       0.053793\n",
       "has_bike_parking              0.065641\n",
       "average_review_sentiment      0.781280\n",
       "stars                         1.000000\n",
       "Name: stars, dtype: float64"
      ]
     },
     "execution_count": 13,
     "metadata": {},
     "output_type": "execute_result"
    }
   ],
   "source": [
    "dataFiiledMedianWOCat.corr().stars.sort_values()"
   ]
  },
  {
   "cell_type": "markdown",
   "metadata": {},
   "source": [
    "It seems that average_review_sentiment, average_review_length, average_review_age are top three correlated features"
   ]
  },
  {
   "cell_type": "code",
   "execution_count": 14,
   "metadata": {},
   "outputs": [
    {
     "data": {
      "image/png": "[encoded data removed]",
      "text/plain": [
       "<Figure size 1440x720 with 4 Axes>"
      ]
     },
     "metadata": {
      "needs_background": "light"
     },
     "output_type": "display_data"
    }
   ],
   "source": [
    "# featuresToPlot = [\"average_review_sentiment\",\"average_review_length\",\"average_review_age\",\"number_funny_votes\"]\n",
    "fig, (ax1, ax2, ax3, ax4) = plt.subplots(1, 4)\n",
    "\n",
    "ax1.scatter(dataFiiledMedianWOCat.stars, dataFiiledMedianWOCat[\"average_review_length\"], alpha=.01)\n",
    "ax2.scatter(dataFiiledMedianWOCat.stars, dataFiiledMedianWOCat[\"average_review_sentiment\"], alpha=.005)\n",
    "ax3.scatter(dataFiiledMedianWOCat.stars, dataFiiledMedianWOCat[\"average_review_age\"], alpha=.01)\n",
    "ax4.scatter(dataFiiledMedianWOCat.stars, dataFiiledMedianWOCat[\"number_funny_votes\"], alpha=.5)\n",
    "plt.show()"
   ]
  },
  {
   "cell_type": "markdown",
   "metadata": {},
   "source": [
    "### Conclusion <a class=\"anchor\" id=\"conclusion1\"></a>"
   ]
  },
  {
   "cell_type": "markdown",
   "metadata": {},
   "source": [
    "We would like to visualize the columns with scatter plot to see certain features against our dependent variable, the Yelp rating.\n",
    "\n",
    "-It is obvious that there is a positive lineer relationship between 'average_review_sentiment' and 'stars'. It would be a good predictor for our model.\n",
    "\n",
    "-'average_review_length' shows there is not a clear linearity.\n",
    "\n",
    "-'average_review_age' shows continuity but not a clear positive linearity.\n",
    "\n",
    "-'number_funny_votes' column seems to have outliers. Outliers might mislead the model so, we filtered the outliers to see actual data. We detect some outliers from figures so we decided to create one dataframe with filled with median in missing values and eliminated outliars by excluding raws that have values which are 3 standart deviation far from center of its distiribution"
   ]
  },
  {
   "cell_type": "code",
   "execution_count": 15,
   "metadata": {},
   "outputs": [
    {
     "data": {
      "text/plain": [
       "(165299, 26)"
      ]
     },
     "execution_count": 15,
     "metadata": {},
     "output_type": "execute_result"
    }
   ],
   "source": [
    "dataFiiledMedianWOutliars = dataFiiledMedianWOCat.copy()[(np.abs(stats.zscore(dataFiiledMedianWOCat)) < 3).all(axis=1)]\n",
    "dataFiiledMedianWOutliars.shape"
   ]
  },
  {
   "cell_type": "markdown",
   "metadata": {},
   "source": [
    "## Data Selection\n",
    "\n",
    "We have 5 different data according to handling missing values These are :\n",
    "\n",
    "***dataFiiledMedianWOutliars*** : dataframe filled with median in missing values and without outliars\n",
    "\n",
    "***dataFiiledMode***            : dataframe filled with mode in missing values\n",
    "\n",
    "***dataFiiledMedian***          : dataframe filled with median in missing values\n",
    "\n",
    "***dataFiiledMean***            : dataframe filled with mean in missing values\n",
    "\n",
    "***dataNotMissingFeatures***    : dataframe droped four feature that have missing values\n",
    "\n",
    "They have all raws. We can split them according food related or not"
   ]
  },
  {
   "cell_type": "markdown",
   "metadata": {},
   "source": [
    "## Data Selection <a class=\"anchor\" id=\"data_select\"></a>\n",
    "\n",
    "We have 5 different data according to handling missing values. These are dataFiiledMedianWOutliars, dataFiiledMode, dataFiiledMedian, dataFiiledMean, dataNotMissingFeatures. They have all raws. We can split them according food related or not"
   ]
  },
  {
   "cell_type": "markdown",
   "metadata": {},
   "source": [
    "We read food related words from \"maskforwordsV2.csv\""
   ]
  },
  {
   "cell_type": "code",
   "execution_count": 17,
   "metadata": {},
   "outputs": [
    {
     "data": {
      "text/html": [
       "<div>\n",
       "<style scoped>\n",
       "    .dataframe tbody tr th:only-of-type {\n",
       "        vertical-align: middle;\n",
       "    }\n",
       "\n",
       "    .dataframe tbody tr th {\n",
       "        vertical-align: top;\n",
       "    }\n",
       "\n",
       "    .dataframe thead th {\n",
       "        text-align: right;\n",
       "    }\n",
       "</style>\n",
       "<table border=\"1\" class=\"dataframe\">\n",
       "  <thead>\n",
       "    <tr style=\"text-align: right;\">\n",
       "      <th></th>\n",
       "      <th>name</th>\n",
       "      <th>boolean</th>\n",
       "    </tr>\n",
       "  </thead>\n",
       "  <tbody>\n",
       "    <tr>\n",
       "      <th>0</th>\n",
       "      <td>Breweries</td>\n",
       "      <td>1</td>\n",
       "    </tr>\n",
       "    <tr>\n",
       "      <th>1</th>\n",
       "      <td>Pizza</td>\n",
       "      <td>1</td>\n",
       "    </tr>\n",
       "    <tr>\n",
       "      <th>2</th>\n",
       "      <td>Restaurants</td>\n",
       "      <td>1</td>\n",
       "    </tr>\n",
       "    <tr>\n",
       "      <th>3</th>\n",
       "      <td>Food</td>\n",
       "      <td>1</td>\n",
       "    </tr>\n",
       "    <tr>\n",
       "      <th>4</th>\n",
       "      <td>Chicken Wings</td>\n",
       "      <td>1</td>\n",
       "    </tr>\n",
       "  </tbody>\n",
       "</table>\n",
       "</div>"
      ],
      "text/plain": [
       "            name  boolean\n",
       "0      Breweries        1\n",
       "1          Pizza        1\n",
       "2    Restaurants        1\n",
       "3           Food        1\n",
       "4  Chicken Wings        1"
      ]
     },
     "execution_count": 17,
     "metadata": {},
     "output_type": "execute_result"
    }
   ],
   "source": [
    "maskforwords = pd.read_csv(\"maskforwordsV2.csv\")\n",
    "maskforwords.head()"
   ]
  },
  {
   "cell_type": "code",
   "execution_count": 23,
   "metadata": {},
   "outputs": [],
   "source": [
    "words = maskforwords[\"name\"].tolist()\n",
    "words = set([i.strip() for i in words])"
   ]
  },
  {
   "cell_type": "markdown",
   "metadata": {},
   "source": [
    "We selected unique food related words for searching this words in categories feature"
   ]
  },
  {
   "cell_type": "code",
   "execution_count": 25,
   "metadata": {},
   "outputs": [],
   "source": [
    "def foodsInCategories(sentence):\n",
    "    \"\"\"takes a string from a Series returns a mask with true if string contains a word from a words list else false\"\"\"\n",
    "    flag = False\n",
    "    for word in words:\n",
    "        if word in str(sentence):\n",
    "            flag = True\n",
    "            break\n",
    "        else:\n",
    "            pass\n",
    "    return flag"
   ]
  },
  {
   "cell_type": "markdown",
   "metadata": {},
   "source": [
    "Defined function to create mask if categories has food related words"
   ]
  },
  {
   "cell_type": "code",
   "execution_count": 26,
   "metadata": {},
   "outputs": [],
   "source": [
    "foodMask = data.categories.apply(foodsInCategories)"
   ]
  },
  {
   "cell_type": "markdown",
   "metadata": {},
   "source": [
    "Applied function to categories feature"
   ]
  },
  {
   "cell_type": "code",
   "execution_count": 27,
   "metadata": {},
   "outputs": [
    {
     "data": {
      "text/plain": [
       "False    94996\n",
       "True     93056\n",
       "Name: categories, dtype: int64"
      ]
     },
     "execution_count": 27,
     "metadata": {},
     "output_type": "execute_result"
    }
   ],
   "source": [
    "foodMask.value_counts()"
   ]
  },
  {
   "cell_type": "markdown",
   "metadata": {},
   "source": [
    "Approximately half of the data (95537 raws) are not food related business."
   ]
  },
  {
   "cell_type": "code",
   "execution_count": 28,
   "metadata": {},
   "outputs": [],
   "source": [
    "dataFramesWithAllRawsList = [dataFiiledMedianWOutliars, dataFiiledMode, dataFiiledMedian, dataFiiledMean, dataNotMissingFeatures]"
   ]
  },
  {
   "cell_type": "markdown",
   "metadata": {},
   "source": [
    "Five dataframe added to a list to subset food related raws"
   ]
  },
  {
   "cell_type": "code",
   "execution_count": 29,
   "metadata": {},
   "outputs": [],
   "source": [
    "for i in [dataFiiledMode, dataFiiledMedian, dataFiiledMean, dataNotMissingFeatures]:\n",
    "    i.drop([\"categories\"], axis=1,inplace=True)"
   ]
  },
  {
   "cell_type": "markdown",
   "metadata": {},
   "source": [
    "Droping Categories from dataframes to get just numerical features"
   ]
  },
  {
   "cell_type": "code",
   "execution_count": 30,
   "metadata": {},
   "outputs": [
    {
     "name": "stderr",
     "output_type": "stream",
     "text": [
      "<ipython-input-30-1ff0c557dc89>:3: UserWarning: Boolean Series key will be reindexed to match DataFrame index.\n",
      "  dataFramesWithFrRawsList.append(i[foodMask])\n"
     ]
    }
   ],
   "source": [
    "dataFramesWithFrRawsList = []\n",
    "for i in dataFramesWithAllRawsList:\n",
    "    dataFramesWithFrRawsList.append(i[foodMask])\n",
    "AllDataframes =dataFramesWithFrRawsList + dataFramesWithAllRawsList\n"
   ]
  },
  {
   "cell_type": "markdown",
   "metadata": {},
   "source": [
    "We toke our five dataframes and created five more with subsetting them by selecting foodrelated raws"
   ]
  },
  {
   "cell_type": "code",
   "execution_count": 31,
   "metadata": {},
   "outputs": [
    {
     "data": {
      "text/plain": [
       "10"
      ]
     },
     "execution_count": 31,
     "metadata": {},
     "output_type": "execute_result"
    }
   ],
   "source": [
    "len(AllDataframes)"
   ]
  },
  {
   "cell_type": "code",
   "execution_count": 32,
   "metadata": {},
   "outputs": [],
   "source": [
    "dfnames = ['dataFiiledMedianWOutliars', 'dataFiiledMode', 'dataFiiledMedian', 'dataFiiledMean', 'dataNotMissingFeatures',\n",
    "'dataFiiledMedianWOutliarsFood', 'dataFiiledModeFood', 'dataFiiledMedianFood', 'dataFiiledMeanFood', 'dataNotMissingFeaturesFood']"
   ]
  },
  {
   "cell_type": "markdown",
   "metadata": {},
   "source": [
    "We have ten dataframes and listed their names in another list to use while comparing our models"
   ]
  },
  {
   "cell_type": "markdown",
   "metadata": {},
   "source": [
    "### Conclusion <a class=\"anchor\" id=\"conclusion2\"></a>"
   ]
  },
  {
   "cell_type": "markdown",
   "metadata": {},
   "source": [
    "After the filling data and splitting them into the food-related or not, we are creating a new data frame which contains all raw list. At this point, we have 10 different datasets to decide which one can give us the best result for our model. "
   ]
  },
  {
   "cell_type": "markdown",
   "metadata": {},
   "source": [
    "***"
   ]
  },
  {
   "cell_type": "markdown",
   "metadata": {},
   "source": [
    "## Feature Selection <a class=\"anchor\" id=\"feature_select\"></a>"
   ]
  },
  {
   "cell_type": "markdown",
   "metadata": {},
   "source": [
    "Now, we are creating our model. At first, we need to break our data into a training set and a test set so we can evaluate how well our model performs. Then, our data is split into training and testing sets and we used the .fit() method to fit our Linear Regression model to our training data and calculate the coefficients for our features. We used the .score() function on our model to calculate our training $R^2$ score to see how it can be effectively predict Yelp rating. "
   ]
  },
  {
   "cell_type": "code",
   "execution_count": 27,
   "metadata": {},
   "outputs": [],
   "source": [
    "def model_these_features(dflist,dfnames, feature_list):\n",
    "    \"\"\"takes dataframes, dataframe names and feature list and trains a model with this features and returns scores and coeficients in a dataframe\"\"\"\n",
    "\n",
    "    modelscores = {} #Creaed a dictionary to store model informations\n",
    "    \n",
    "    for i in range(len(dflist)): #for loop for creation model for every dataframe\n",
    "        \n",
    "        #precaution for if df is don't have filled features this part removes this features\n",
    "        checkset = set([\"weekday_checkins\", \"weekend_checkins\", \"average_tip_length\", \"number_tips\"]).intersection(feature_list)\n",
    "        if checkset:\n",
    "            for h in checkset:      \n",
    "                feature_list.remove(h)\n",
    "                \n",
    "        ratings = dflist[i].loc[:,'stars'] #depended variable\n",
    "        features = dflist[i].loc[:,feature_list] #independed variables\n",
    "    \n",
    "        X_train, X_test, y_train, y_test = train_test_split(features, ratings, test_size = 0.2, random_state = 1)\n",
    "    \n",
    "        #check for if features has one feature reshape it to prevent error while fitting the model\n",
    "        if len(X_train.shape) < 2:\n",
    "            X_train = np.array(X_train).reshape(-1,1)\n",
    "            X_test = np.array(X_test).reshape(-1,1)\n",
    "    \n",
    "        model = LinearRegression() #created lineer regression object as a model\n",
    "        model.fit(X_train,y_train) #line fitted to data\n",
    "        \n",
    "        #model coefficients and related feature stored in a dictionary with three digit presicion\n",
    "        coefs = {X_train.columns[j]:round(model.coef_[j], 3) for j in range(len(X_train.columns))}\n",
    "        coefs[\"Train score:\"] = model.score(X_train, y_train)\n",
    "        coefs[\"Test score:\"] = model.score(X_test, y_test)\n",
    "        \n",
    "        #model statistics turned into pandas dataframe with related dataframe name to make comparison easy\n",
    "        modelscores[dfnames[i]] = pd.DataFrame.from_dict(coefs, orient='index')\n",
    "        \n",
    "    return modelscores\n"
   ]
  },
  {
   "cell_type": "markdown",
   "metadata": {},
   "source": [
    "***"
   ]
  },
  {
   "cell_type": "markdown",
   "metadata": {},
   "source": [
    "### Define Different Subsets of Data  <a class=\"anchor\" id=\"subset_data\"></a>"
   ]
  },
  {
   "cell_type": "code",
   "execution_count": 28,
   "metadata": {},
   "outputs": [],
   "source": [
    "# subset of only average review sentiment\n",
    "sentiment = ['average_review_sentiment']"
   ]
  },
  {
   "cell_type": "code",
   "execution_count": 29,
   "metadata": {},
   "outputs": [],
   "source": [
    "# subset of all features that have a response range [0,1]\n",
    "binary_features = ['alcohol?','has_bike_parking','takes_credit_cards','good_for_kids','take_reservations','has_wifi']"
   ]
  },
  {
   "cell_type": "code",
   "execution_count": 30,
   "metadata": {},
   "outputs": [],
   "source": [
    "# subset of all features that vary on a greater range than [0,1]\n",
    "numeric_features = ['review_count','price_range','average_review_age','average_review_length','average_review_sentiment','number_funny_votes','number_cool_votes','number_useful_votes','average_tip_length','number_tips','average_number_friends','average_days_on_yelp','average_number_fans','average_review_count','average_number_years_elite','weekday_checkins','weekend_checkins']"
   ]
  },
  {
   "cell_type": "code",
   "execution_count": 31,
   "metadata": {},
   "outputs": [],
   "source": [
    "# all features\n",
    "all_features = binary_features + numeric_features"
   ]
  },
  {
   "cell_type": "code",
   "execution_count": 32,
   "metadata": {},
   "outputs": [],
   "source": [
    "# Our own feature subset that we can affect as restaurant owner\n",
    "feature_subset = ['alcohol?','has_bike_parking','takes_credit_cards','good_for_kids','take_reservations','has_wifi',\n",
    "                  'price_range','average_tip_length','number_tips','weekday_checkins','weekend_checkins','average_number_years_elite']"
   ]
  },
  {
   "cell_type": "code",
   "execution_count": 33,
   "metadata": {},
   "outputs": [],
   "source": [
    "resultDict = model_these_features(AllDataframes,dfnames, feature_subset)"
   ]
  },
  {
   "cell_type": "code",
   "execution_count": 34,
   "metadata": {},
   "outputs": [
    {
     "data": {
      "text/html": [
       "<div>\n",
       "<style scoped>\n",
       "    .dataframe tbody tr th:only-of-type {\n",
       "        vertical-align: middle;\n",
       "    }\n",
       "\n",
       "    .dataframe tbody tr th {\n",
       "        vertical-align: top;\n",
       "    }\n",
       "\n",
       "    .dataframe thead th {\n",
       "        text-align: right;\n",
       "    }\n",
       "</style>\n",
       "<table border=\"1\" class=\"dataframe\">\n",
       "  <thead>\n",
       "    <tr style=\"text-align: right;\">\n",
       "      <th></th>\n",
       "      <th>dataFiiledMedianWOutliars</th>\n",
       "      <th>dataFiiledMode</th>\n",
       "      <th>dataFiiledMedian</th>\n",
       "      <th>dataFiiledMean</th>\n",
       "      <th>dataNotMissingFeatures</th>\n",
       "      <th>dataFiiledMedianWOutliarsFood</th>\n",
       "      <th>dataFiiledModeFood</th>\n",
       "      <th>dataFiiledMedianFood</th>\n",
       "      <th>dataFiiledMeanFood</th>\n",
       "      <th>dataNotMissingFeaturesFood</th>\n",
       "    </tr>\n",
       "  </thead>\n",
       "  <tbody>\n",
       "    <tr>\n",
       "      <th>alcohol?</th>\n",
       "      <td>-0.072000</td>\n",
       "      <td>-0.054000</td>\n",
       "      <td>-0.054000</td>\n",
       "      <td>-0.054000</td>\n",
       "      <td>-0.054000</td>\n",
       "      <td>-0.113000</td>\n",
       "      <td>-0.097000</td>\n",
       "      <td>-0.097000</td>\n",
       "      <td>-0.097000</td>\n",
       "      <td>-0.097000</td>\n",
       "    </tr>\n",
       "    <tr>\n",
       "      <th>has_bike_parking</th>\n",
       "      <td>0.170000</td>\n",
       "      <td>0.184000</td>\n",
       "      <td>0.184000</td>\n",
       "      <td>0.184000</td>\n",
       "      <td>0.184000</td>\n",
       "      <td>0.226000</td>\n",
       "      <td>0.247000</td>\n",
       "      <td>0.247000</td>\n",
       "      <td>0.247000</td>\n",
       "      <td>0.247000</td>\n",
       "    </tr>\n",
       "    <tr>\n",
       "      <th>takes_credit_cards</th>\n",
       "      <td>-0.020000</td>\n",
       "      <td>-0.003000</td>\n",
       "      <td>-0.003000</td>\n",
       "      <td>-0.003000</td>\n",
       "      <td>-0.003000</td>\n",
       "      <td>0.086000</td>\n",
       "      <td>0.117000</td>\n",
       "      <td>0.117000</td>\n",
       "      <td>0.117000</td>\n",
       "      <td>0.117000</td>\n",
       "    </tr>\n",
       "    <tr>\n",
       "      <th>good_for_kids</th>\n",
       "      <td>-0.239000</td>\n",
       "      <td>-0.211000</td>\n",
       "      <td>-0.211000</td>\n",
       "      <td>-0.211000</td>\n",
       "      <td>-0.211000</td>\n",
       "      <td>-0.117000</td>\n",
       "      <td>-0.078000</td>\n",
       "      <td>-0.078000</td>\n",
       "      <td>-0.078000</td>\n",
       "      <td>-0.078000</td>\n",
       "    </tr>\n",
       "    <tr>\n",
       "      <th>take_reservations</th>\n",
       "      <td>0.110000</td>\n",
       "      <td>0.102000</td>\n",
       "      <td>0.102000</td>\n",
       "      <td>0.102000</td>\n",
       "      <td>0.102000</td>\n",
       "      <td>0.079000</td>\n",
       "      <td>0.082000</td>\n",
       "      <td>0.082000</td>\n",
       "      <td>0.082000</td>\n",
       "      <td>0.082000</td>\n",
       "    </tr>\n",
       "    <tr>\n",
       "      <th>has_wifi</th>\n",
       "      <td>-0.013000</td>\n",
       "      <td>0.007000</td>\n",
       "      <td>0.007000</td>\n",
       "      <td>0.007000</td>\n",
       "      <td>0.007000</td>\n",
       "      <td>-0.123000</td>\n",
       "      <td>-0.106000</td>\n",
       "      <td>-0.106000</td>\n",
       "      <td>-0.106000</td>\n",
       "      <td>-0.106000</td>\n",
       "    </tr>\n",
       "    <tr>\n",
       "      <th>price_range</th>\n",
       "      <td>-0.053000</td>\n",
       "      <td>-0.042000</td>\n",
       "      <td>-0.042000</td>\n",
       "      <td>-0.042000</td>\n",
       "      <td>-0.042000</td>\n",
       "      <td>-0.099000</td>\n",
       "      <td>-0.093000</td>\n",
       "      <td>-0.093000</td>\n",
       "      <td>-0.093000</td>\n",
       "      <td>-0.093000</td>\n",
       "    </tr>\n",
       "    <tr>\n",
       "      <th>average_number_years_elite</th>\n",
       "      <td>-0.069000</td>\n",
       "      <td>-0.045000</td>\n",
       "      <td>-0.045000</td>\n",
       "      <td>-0.045000</td>\n",
       "      <td>-0.045000</td>\n",
       "      <td>-0.088000</td>\n",
       "      <td>-0.043000</td>\n",
       "      <td>-0.043000</td>\n",
       "      <td>-0.043000</td>\n",
       "      <td>-0.043000</td>\n",
       "    </tr>\n",
       "    <tr>\n",
       "      <th>Train score:</th>\n",
       "      <td>0.031092</td>\n",
       "      <td>0.023519</td>\n",
       "      <td>0.023519</td>\n",
       "      <td>0.023519</td>\n",
       "      <td>0.023519</td>\n",
       "      <td>0.029725</td>\n",
       "      <td>0.021094</td>\n",
       "      <td>0.021094</td>\n",
       "      <td>0.021094</td>\n",
       "      <td>0.021094</td>\n",
       "    </tr>\n",
       "    <tr>\n",
       "      <th>Test score:</th>\n",
       "      <td>0.034261</td>\n",
       "      <td>0.028358</td>\n",
       "      <td>0.028358</td>\n",
       "      <td>0.028358</td>\n",
       "      <td>0.028358</td>\n",
       "      <td>0.030283</td>\n",
       "      <td>0.022935</td>\n",
       "      <td>0.022935</td>\n",
       "      <td>0.022935</td>\n",
       "      <td>0.022935</td>\n",
       "    </tr>\n",
       "  </tbody>\n",
       "</table>\n",
       "</div>"
      ],
      "text/plain": [
       "                            dataFiiledMedianWOutliars  dataFiiledMode  \\\n",
       "alcohol?                                    -0.072000       -0.054000   \n",
       "has_bike_parking                             0.170000        0.184000   \n",
       "takes_credit_cards                          -0.020000       -0.003000   \n",
       "good_for_kids                               -0.239000       -0.211000   \n",
       "take_reservations                            0.110000        0.102000   \n",
       "has_wifi                                    -0.013000        0.007000   \n",
       "price_range                                 -0.053000       -0.042000   \n",
       "average_number_years_elite                  -0.069000       -0.045000   \n",
       "Train score:                                 0.031092        0.023519   \n",
       "Test score:                                  0.034261        0.028358   \n",
       "\n",
       "                            dataFiiledMedian  dataFiiledMean  \\\n",
       "alcohol?                           -0.054000       -0.054000   \n",
       "has_bike_parking                    0.184000        0.184000   \n",
       "takes_credit_cards                 -0.003000       -0.003000   \n",
       "good_for_kids                      -0.211000       -0.211000   \n",
       "take_reservations                   0.102000        0.102000   \n",
       "has_wifi                            0.007000        0.007000   \n",
       "price_range                        -0.042000       -0.042000   \n",
       "average_number_years_elite         -0.045000       -0.045000   \n",
       "Train score:                        0.023519        0.023519   \n",
       "Test score:                         0.028358        0.028358   \n",
       "\n",
       "                            dataNotMissingFeatures  \\\n",
       "alcohol?                                 -0.054000   \n",
       "has_bike_parking                          0.184000   \n",
       "takes_credit_cards                       -0.003000   \n",
       "good_for_kids                            -0.211000   \n",
       "take_reservations                         0.102000   \n",
       "has_wifi                                  0.007000   \n",
       "price_range                              -0.042000   \n",
       "average_number_years_elite               -0.045000   \n",
       "Train score:                              0.023519   \n",
       "Test score:                               0.028358   \n",
       "\n",
       "                            dataFiiledMedianWOutliarsFood  dataFiiledModeFood  \\\n",
       "alcohol?                                        -0.113000           -0.097000   \n",
       "has_bike_parking                                 0.226000            0.247000   \n",
       "takes_credit_cards                               0.086000            0.117000   \n",
       "good_for_kids                                   -0.117000           -0.078000   \n",
       "take_reservations                                0.079000            0.082000   \n",
       "has_wifi                                        -0.123000           -0.106000   \n",
       "price_range                                     -0.099000           -0.093000   \n",
       "average_number_years_elite                      -0.088000           -0.043000   \n",
       "Train score:                                     0.029725            0.021094   \n",
       "Test score:                                      0.030283            0.022935   \n",
       "\n",
       "                            dataFiiledMedianFood  dataFiiledMeanFood  \\\n",
       "alcohol?                               -0.097000           -0.097000   \n",
       "has_bike_parking                        0.247000            0.247000   \n",
       "takes_credit_cards                      0.117000            0.117000   \n",
       "good_for_kids                          -0.078000           -0.078000   \n",
       "take_reservations                       0.082000            0.082000   \n",
       "has_wifi                               -0.106000           -0.106000   \n",
       "price_range                            -0.093000           -0.093000   \n",
       "average_number_years_elite             -0.043000           -0.043000   \n",
       "Train score:                            0.021094            0.021094   \n",
       "Test score:                             0.022935            0.022935   \n",
       "\n",
       "                            dataNotMissingFeaturesFood  \n",
       "alcohol?                                     -0.097000  \n",
       "has_bike_parking                              0.247000  \n",
       "takes_credit_cards                            0.117000  \n",
       "good_for_kids                                -0.078000  \n",
       "take_reservations                             0.082000  \n",
       "has_wifi                                     -0.106000  \n",
       "price_range                                  -0.093000  \n",
       "average_number_years_elite                   -0.043000  \n",
       "Train score:                                  0.021094  \n",
       "Test score:                                   0.022935  "
      ]
     },
     "execution_count": 34,
     "metadata": {},
     "output_type": "execute_result"
    }
   ],
   "source": [
    "scores = pd.concat([value.rename(columns={0: key}) for key,value in resultDict.items()], axis=1)\n",
    "scores"
   ]
  },
  {
   "cell_type": "markdown",
   "metadata": {},
   "source": [
    "Ten different model created with our **Feature Subset** and combined as dataframe to show model statistic"
   ]
  },
  {
   "cell_type": "code",
   "execution_count": 35,
   "metadata": {},
   "outputs": [],
   "source": [
    "resultDict = model_these_features(AllDataframes,dfnames, all_features)"
   ]
  },
  {
   "cell_type": "code",
   "execution_count": 36,
   "metadata": {},
   "outputs": [
    {
     "data": {
      "text/html": [
       "<div>\n",
       "<style scoped>\n",
       "    .dataframe tbody tr th:only-of-type {\n",
       "        vertical-align: middle;\n",
       "    }\n",
       "\n",
       "    .dataframe tbody tr th {\n",
       "        vertical-align: top;\n",
       "    }\n",
       "\n",
       "    .dataframe thead th {\n",
       "        text-align: right;\n",
       "    }\n",
       "</style>\n",
       "<table border=\"1\" class=\"dataframe\">\n",
       "  <thead>\n",
       "    <tr style=\"text-align: right;\">\n",
       "      <th></th>\n",
       "      <th>dataFiiledMedianWOutliars</th>\n",
       "      <th>dataFiiledMode</th>\n",
       "      <th>dataFiiledMedian</th>\n",
       "      <th>dataFiiledMean</th>\n",
       "      <th>dataNotMissingFeatures</th>\n",
       "      <th>dataFiiledMedianWOutliarsFood</th>\n",
       "      <th>dataFiiledModeFood</th>\n",
       "      <th>dataFiiledMedianFood</th>\n",
       "      <th>dataFiiledMeanFood</th>\n",
       "      <th>dataNotMissingFeaturesFood</th>\n",
       "    </tr>\n",
       "  </thead>\n",
       "  <tbody>\n",
       "    <tr>\n",
       "      <th>alcohol?</th>\n",
       "      <td>-0.114000</td>\n",
       "      <td>-0.119000</td>\n",
       "      <td>-0.119000</td>\n",
       "      <td>-0.119000</td>\n",
       "      <td>-0.119000</td>\n",
       "      <td>-0.155000</td>\n",
       "      <td>-0.151000</td>\n",
       "      <td>-0.151000</td>\n",
       "      <td>-0.151000</td>\n",
       "      <td>-0.151000</td>\n",
       "    </tr>\n",
       "    <tr>\n",
       "      <th>has_bike_parking</th>\n",
       "      <td>0.015000</td>\n",
       "      <td>0.017000</td>\n",
       "      <td>0.017000</td>\n",
       "      <td>0.017000</td>\n",
       "      <td>0.017000</td>\n",
       "      <td>0.017000</td>\n",
       "      <td>0.021000</td>\n",
       "      <td>0.021000</td>\n",
       "      <td>0.021000</td>\n",
       "      <td>0.021000</td>\n",
       "    </tr>\n",
       "    <tr>\n",
       "      <th>takes_credit_cards</th>\n",
       "      <td>0.011000</td>\n",
       "      <td>-0.015000</td>\n",
       "      <td>-0.015000</td>\n",
       "      <td>-0.015000</td>\n",
       "      <td>-0.015000</td>\n",
       "      <td>0.035000</td>\n",
       "      <td>0.017000</td>\n",
       "      <td>0.017000</td>\n",
       "      <td>0.017000</td>\n",
       "      <td>0.017000</td>\n",
       "    </tr>\n",
       "    <tr>\n",
       "      <th>good_for_kids</th>\n",
       "      <td>-0.159000</td>\n",
       "      <td>-0.155000</td>\n",
       "      <td>-0.155000</td>\n",
       "      <td>-0.155000</td>\n",
       "      <td>-0.155000</td>\n",
       "      <td>-0.136000</td>\n",
       "      <td>-0.127000</td>\n",
       "      <td>-0.127000</td>\n",
       "      <td>-0.127000</td>\n",
       "      <td>-0.127000</td>\n",
       "    </tr>\n",
       "    <tr>\n",
       "      <th>take_reservations</th>\n",
       "      <td>0.017000</td>\n",
       "      <td>0.027000</td>\n",
       "      <td>0.027000</td>\n",
       "      <td>0.027000</td>\n",
       "      <td>0.027000</td>\n",
       "      <td>-0.007000</td>\n",
       "      <td>0.011000</td>\n",
       "      <td>0.011000</td>\n",
       "      <td>0.011000</td>\n",
       "      <td>0.011000</td>\n",
       "    </tr>\n",
       "    <tr>\n",
       "      <th>has_wifi</th>\n",
       "      <td>-0.070000</td>\n",
       "      <td>-0.071000</td>\n",
       "      <td>-0.071000</td>\n",
       "      <td>-0.071000</td>\n",
       "      <td>-0.071000</td>\n",
       "      <td>-0.125000</td>\n",
       "      <td>-0.125000</td>\n",
       "      <td>-0.125000</td>\n",
       "      <td>-0.125000</td>\n",
       "      <td>-0.125000</td>\n",
       "    </tr>\n",
       "    <tr>\n",
       "      <th>review_count</th>\n",
       "      <td>-0.000000</td>\n",
       "      <td>-0.000000</td>\n",
       "      <td>-0.000000</td>\n",
       "      <td>-0.000000</td>\n",
       "      <td>-0.000000</td>\n",
       "      <td>-0.000000</td>\n",
       "      <td>-0.000000</td>\n",
       "      <td>-0.000000</td>\n",
       "      <td>-0.000000</td>\n",
       "      <td>-0.000000</td>\n",
       "    </tr>\n",
       "    <tr>\n",
       "      <th>price_range</th>\n",
       "      <td>-0.055000</td>\n",
       "      <td>-0.047000</td>\n",
       "      <td>-0.047000</td>\n",
       "      <td>-0.047000</td>\n",
       "      <td>-0.047000</td>\n",
       "      <td>-0.065000</td>\n",
       "      <td>-0.065000</td>\n",
       "      <td>-0.065000</td>\n",
       "      <td>-0.065000</td>\n",
       "      <td>-0.065000</td>\n",
       "    </tr>\n",
       "    <tr>\n",
       "      <th>average_review_age</th>\n",
       "      <td>-0.000000</td>\n",
       "      <td>-0.000000</td>\n",
       "      <td>-0.000000</td>\n",
       "      <td>-0.000000</td>\n",
       "      <td>-0.000000</td>\n",
       "      <td>-0.000000</td>\n",
       "      <td>-0.000000</td>\n",
       "      <td>-0.000000</td>\n",
       "      <td>-0.000000</td>\n",
       "      <td>-0.000000</td>\n",
       "    </tr>\n",
       "    <tr>\n",
       "      <th>average_review_length</th>\n",
       "      <td>-0.001000</td>\n",
       "      <td>-0.001000</td>\n",
       "      <td>-0.001000</td>\n",
       "      <td>-0.001000</td>\n",
       "      <td>-0.001000</td>\n",
       "      <td>-0.001000</td>\n",
       "      <td>-0.001000</td>\n",
       "      <td>-0.001000</td>\n",
       "      <td>-0.001000</td>\n",
       "      <td>-0.001000</td>\n",
       "    </tr>\n",
       "    <tr>\n",
       "      <th>average_review_sentiment</th>\n",
       "      <td>2.330000</td>\n",
       "      <td>2.186000</td>\n",
       "      <td>2.186000</td>\n",
       "      <td>2.186000</td>\n",
       "      <td>2.186000</td>\n",
       "      <td>2.397000</td>\n",
       "      <td>2.283000</td>\n",
       "      <td>2.283000</td>\n",
       "      <td>2.283000</td>\n",
       "      <td>2.283000</td>\n",
       "    </tr>\n",
       "    <tr>\n",
       "      <th>number_funny_votes</th>\n",
       "      <td>-0.004000</td>\n",
       "      <td>-0.001000</td>\n",
       "      <td>-0.001000</td>\n",
       "      <td>-0.001000</td>\n",
       "      <td>-0.001000</td>\n",
       "      <td>-0.004000</td>\n",
       "      <td>0.000000</td>\n",
       "      <td>0.000000</td>\n",
       "      <td>0.000000</td>\n",
       "      <td>0.000000</td>\n",
       "    </tr>\n",
       "    <tr>\n",
       "      <th>number_cool_votes</th>\n",
       "      <td>0.005000</td>\n",
       "      <td>0.001000</td>\n",
       "      <td>0.001000</td>\n",
       "      <td>0.001000</td>\n",
       "      <td>0.001000</td>\n",
       "      <td>0.005000</td>\n",
       "      <td>0.001000</td>\n",
       "      <td>0.001000</td>\n",
       "      <td>0.001000</td>\n",
       "      <td>0.001000</td>\n",
       "    </tr>\n",
       "    <tr>\n",
       "      <th>number_useful_votes</th>\n",
       "      <td>-0.000000</td>\n",
       "      <td>-0.000000</td>\n",
       "      <td>-0.000000</td>\n",
       "      <td>-0.000000</td>\n",
       "      <td>-0.000000</td>\n",
       "      <td>-0.000000</td>\n",
       "      <td>-0.000000</td>\n",
       "      <td>-0.000000</td>\n",
       "      <td>-0.000000</td>\n",
       "      <td>-0.000000</td>\n",
       "    </tr>\n",
       "    <tr>\n",
       "      <th>average_number_friends</th>\n",
       "      <td>-0.000000</td>\n",
       "      <td>0.000000</td>\n",
       "      <td>0.000000</td>\n",
       "      <td>0.000000</td>\n",
       "      <td>0.000000</td>\n",
       "      <td>-0.000000</td>\n",
       "      <td>0.000000</td>\n",
       "      <td>0.000000</td>\n",
       "      <td>0.000000</td>\n",
       "      <td>0.000000</td>\n",
       "    </tr>\n",
       "    <tr>\n",
       "      <th>average_days_on_yelp</th>\n",
       "      <td>0.000000</td>\n",
       "      <td>0.000000</td>\n",
       "      <td>0.000000</td>\n",
       "      <td>0.000000</td>\n",
       "      <td>0.000000</td>\n",
       "      <td>0.000000</td>\n",
       "      <td>0.000000</td>\n",
       "      <td>0.000000</td>\n",
       "      <td>0.000000</td>\n",
       "      <td>0.000000</td>\n",
       "    </tr>\n",
       "    <tr>\n",
       "      <th>average_number_fans</th>\n",
       "      <td>0.004000</td>\n",
       "      <td>0.002000</td>\n",
       "      <td>0.002000</td>\n",
       "      <td>0.002000</td>\n",
       "      <td>0.002000</td>\n",
       "      <td>0.003000</td>\n",
       "      <td>0.001000</td>\n",
       "      <td>0.001000</td>\n",
       "      <td>0.001000</td>\n",
       "      <td>0.001000</td>\n",
       "    </tr>\n",
       "    <tr>\n",
       "      <th>average_review_count</th>\n",
       "      <td>-0.001000</td>\n",
       "      <td>-0.000000</td>\n",
       "      <td>-0.000000</td>\n",
       "      <td>-0.000000</td>\n",
       "      <td>-0.000000</td>\n",
       "      <td>-0.001000</td>\n",
       "      <td>-0.000000</td>\n",
       "      <td>-0.000000</td>\n",
       "      <td>-0.000000</td>\n",
       "      <td>-0.000000</td>\n",
       "    </tr>\n",
       "    <tr>\n",
       "      <th>average_number_years_elite</th>\n",
       "      <td>-0.051000</td>\n",
       "      <td>-0.059000</td>\n",
       "      <td>-0.059000</td>\n",
       "      <td>-0.059000</td>\n",
       "      <td>-0.059000</td>\n",
       "      <td>-0.055000</td>\n",
       "      <td>-0.063000</td>\n",
       "      <td>-0.063000</td>\n",
       "      <td>-0.063000</td>\n",
       "      <td>-0.063000</td>\n",
       "    </tr>\n",
       "    <tr>\n",
       "      <th>Train score:</th>\n",
       "      <td>0.665773</td>\n",
       "      <td>0.630968</td>\n",
       "      <td>0.630968</td>\n",
       "      <td>0.630968</td>\n",
       "      <td>0.630968</td>\n",
       "      <td>0.693031</td>\n",
       "      <td>0.679017</td>\n",
       "      <td>0.679017</td>\n",
       "      <td>0.679017</td>\n",
       "      <td>0.679017</td>\n",
       "    </tr>\n",
       "    <tr>\n",
       "      <th>Test score:</th>\n",
       "      <td>0.676396</td>\n",
       "      <td>0.522218</td>\n",
       "      <td>0.522218</td>\n",
       "      <td>0.522218</td>\n",
       "      <td>0.522218</td>\n",
       "      <td>0.702355</td>\n",
       "      <td>0.678335</td>\n",
       "      <td>0.678335</td>\n",
       "      <td>0.678335</td>\n",
       "      <td>0.678335</td>\n",
       "    </tr>\n",
       "  </tbody>\n",
       "</table>\n",
       "</div>"
      ],
      "text/plain": [
       "                            dataFiiledMedianWOutliars  dataFiiledMode  \\\n",
       "alcohol?                                    -0.114000       -0.119000   \n",
       "has_bike_parking                             0.015000        0.017000   \n",
       "takes_credit_cards                           0.011000       -0.015000   \n",
       "good_for_kids                               -0.159000       -0.155000   \n",
       "take_reservations                            0.017000        0.027000   \n",
       "has_wifi                                    -0.070000       -0.071000   \n",
       "review_count                                -0.000000       -0.000000   \n",
       "price_range                                 -0.055000       -0.047000   \n",
       "average_review_age                          -0.000000       -0.000000   \n",
       "average_review_length                       -0.001000       -0.001000   \n",
       "average_review_sentiment                     2.330000        2.186000   \n",
       "number_funny_votes                          -0.004000       -0.001000   \n",
       "number_cool_votes                            0.005000        0.001000   \n",
       "number_useful_votes                         -0.000000       -0.000000   \n",
       "average_number_friends                      -0.000000        0.000000   \n",
       "average_days_on_yelp                         0.000000        0.000000   \n",
       "average_number_fans                          0.004000        0.002000   \n",
       "average_review_count                        -0.001000       -0.000000   \n",
       "average_number_years_elite                  -0.051000       -0.059000   \n",
       "Train score:                                 0.665773        0.630968   \n",
       "Test score:                                  0.676396        0.522218   \n",
       "\n",
       "                            dataFiiledMedian  dataFiiledMean  \\\n",
       "alcohol?                           -0.119000       -0.119000   \n",
       "has_bike_parking                    0.017000        0.017000   \n",
       "takes_credit_cards                 -0.015000       -0.015000   \n",
       "good_for_kids                      -0.155000       -0.155000   \n",
       "take_reservations                   0.027000        0.027000   \n",
       "has_wifi                           -0.071000       -0.071000   \n",
       "review_count                       -0.000000       -0.000000   \n",
       "price_range                        -0.047000       -0.047000   \n",
       "average_review_age                 -0.000000       -0.000000   \n",
       "average_review_length              -0.001000       -0.001000   \n",
       "average_review_sentiment            2.186000        2.186000   \n",
       "number_funny_votes                 -0.001000       -0.001000   \n",
       "number_cool_votes                   0.001000        0.001000   \n",
       "number_useful_votes                -0.000000       -0.000000   \n",
       "average_number_friends              0.000000        0.000000   \n",
       "average_days_on_yelp                0.000000        0.000000   \n",
       "average_number_fans                 0.002000        0.002000   \n",
       "average_review_count               -0.000000       -0.000000   \n",
       "average_number_years_elite         -0.059000       -0.059000   \n",
       "Train score:                        0.630968        0.630968   \n",
       "Test score:                         0.522218        0.522218   \n",
       "\n",
       "                            dataNotMissingFeatures  \\\n",
       "alcohol?                                 -0.119000   \n",
       "has_bike_parking                          0.017000   \n",
       "takes_credit_cards                       -0.015000   \n",
       "good_for_kids                            -0.155000   \n",
       "take_reservations                         0.027000   \n",
       "has_wifi                                 -0.071000   \n",
       "review_count                             -0.000000   \n",
       "price_range                              -0.047000   \n",
       "average_review_age                       -0.000000   \n",
       "average_review_length                    -0.001000   \n",
       "average_review_sentiment                  2.186000   \n",
       "number_funny_votes                       -0.001000   \n",
       "number_cool_votes                         0.001000   \n",
       "number_useful_votes                      -0.000000   \n",
       "average_number_friends                    0.000000   \n",
       "average_days_on_yelp                      0.000000   \n",
       "average_number_fans                       0.002000   \n",
       "average_review_count                     -0.000000   \n",
       "average_number_years_elite               -0.059000   \n",
       "Train score:                              0.630968   \n",
       "Test score:                               0.522218   \n",
       "\n",
       "                            dataFiiledMedianWOutliarsFood  dataFiiledModeFood  \\\n",
       "alcohol?                                        -0.155000           -0.151000   \n",
       "has_bike_parking                                 0.017000            0.021000   \n",
       "takes_credit_cards                               0.035000            0.017000   \n",
       "good_for_kids                                   -0.136000           -0.127000   \n",
       "take_reservations                               -0.007000            0.011000   \n",
       "has_wifi                                        -0.125000           -0.125000   \n",
       "review_count                                    -0.000000           -0.000000   \n",
       "price_range                                     -0.065000           -0.065000   \n",
       "average_review_age                              -0.000000           -0.000000   \n",
       "average_review_length                           -0.001000           -0.001000   \n",
       "average_review_sentiment                         2.397000            2.283000   \n",
       "number_funny_votes                              -0.004000            0.000000   \n",
       "number_cool_votes                                0.005000            0.001000   \n",
       "number_useful_votes                             -0.000000           -0.000000   \n",
       "average_number_friends                          -0.000000            0.000000   \n",
       "average_days_on_yelp                             0.000000            0.000000   \n",
       "average_number_fans                              0.003000            0.001000   \n",
       "average_review_count                            -0.001000           -0.000000   \n",
       "average_number_years_elite                      -0.055000           -0.063000   \n",
       "Train score:                                     0.693031            0.679017   \n",
       "Test score:                                      0.702355            0.678335   \n",
       "\n",
       "                            dataFiiledMedianFood  dataFiiledMeanFood  \\\n",
       "alcohol?                               -0.151000           -0.151000   \n",
       "has_bike_parking                        0.021000            0.021000   \n",
       "takes_credit_cards                      0.017000            0.017000   \n",
       "good_for_kids                          -0.127000           -0.127000   \n",
       "take_reservations                       0.011000            0.011000   \n",
       "has_wifi                               -0.125000           -0.125000   \n",
       "review_count                           -0.000000           -0.000000   \n",
       "price_range                            -0.065000           -0.065000   \n",
       "average_review_age                     -0.000000           -0.000000   \n",
       "average_review_length                  -0.001000           -0.001000   \n",
       "average_review_sentiment                2.283000            2.283000   \n",
       "number_funny_votes                      0.000000            0.000000   \n",
       "number_cool_votes                       0.001000            0.001000   \n",
       "number_useful_votes                    -0.000000           -0.000000   \n",
       "average_number_friends                  0.000000            0.000000   \n",
       "average_days_on_yelp                    0.000000            0.000000   \n",
       "average_number_fans                     0.001000            0.001000   \n",
       "average_review_count                   -0.000000           -0.000000   \n",
       "average_number_years_elite             -0.063000           -0.063000   \n",
       "Train score:                            0.679017            0.679017   \n",
       "Test score:                             0.678335            0.678335   \n",
       "\n",
       "                            dataNotMissingFeaturesFood  \n",
       "alcohol?                                     -0.151000  \n",
       "has_bike_parking                              0.021000  \n",
       "takes_credit_cards                            0.017000  \n",
       "good_for_kids                                -0.127000  \n",
       "take_reservations                             0.011000  \n",
       "has_wifi                                     -0.125000  \n",
       "review_count                                 -0.000000  \n",
       "price_range                                  -0.065000  \n",
       "average_review_age                           -0.000000  \n",
       "average_review_length                        -0.001000  \n",
       "average_review_sentiment                      2.283000  \n",
       "number_funny_votes                            0.000000  \n",
       "number_cool_votes                             0.001000  \n",
       "number_useful_votes                          -0.000000  \n",
       "average_number_friends                        0.000000  \n",
       "average_days_on_yelp                          0.000000  \n",
       "average_number_fans                           0.001000  \n",
       "average_review_count                         -0.000000  \n",
       "average_number_years_elite                   -0.063000  \n",
       "Train score:                                  0.679017  \n",
       "Test score:                                   0.678335  "
      ]
     },
     "execution_count": 36,
     "metadata": {},
     "output_type": "execute_result"
    }
   ],
   "source": [
    "scores = pd.concat([value.rename(columns={0: key}) for key,value in resultDict.items()], axis=1)\n",
    "scores"
   ]
  },
  {
   "cell_type": "markdown",
   "metadata": {},
   "source": [
    "Ten different model created with our **All Features** and combined as dataframe to show model statistic"
   ]
  },
  {
   "cell_type": "markdown",
   "metadata": {},
   "source": [
    "## Conclusion  <a class=\"anchor\" id=\"conclusion3\"></a>"
   ]
  },
  {
   "cell_type": "markdown",
   "metadata": {},
   "source": [
    "When we look at 10 different models that we build, maximum test and train score that we reached comes from missing values handling with filling median and without outliers which is 69% train and 70% test score. We can observe that outliers have large effect on our dataset. if we look at our features one by one `average_review_sentiment` dominates rest of the features. Hence, we decided to build another 10 different models and we removed `average_review_sentiment` to see other features' effects clearly. In addition,  we include features that we can deal with directly. we include `alcohol?`, `has_bike_parking`, `takes_credit_cards`, `good_for_kids`, `take_reservations`, `has_wifi`, `price_range`, `average_number_years_elite` features. Because, as a restraunt owner we can control directly these features. However, rest of the features come from customers' evaluation. When we remove `average_review_sentiment`, our test and train score decreased significantly so we use these models only to see features effects one by one. After eliminating `average_review_sentiment` feaures we observe that `has_bike_parking` has positive large effect which is more than 0.24. On the contrary, `good_for_kids` has negative effect on our test and train score which is almost -0.24. Therefore, we can say that customers tend to rate fewer stars where cafes are child friendly."
   ]
  },
  {
   "cell_type": "markdown",
   "metadata": {},
   "source": [
    "## References <a class=\"anchor\" id=\"References\"></a>"
   ]
  },
  {
   "cell_type": "markdown",
   "metadata": {},
   "source": [
    "- Yelp Dataset\n",
    "- Code Academy\n",
    "- Stackoverflow\n",
    "- Flatiron School"
   ]
  }
 ],
 "metadata": {
  "kernelspec": {
   "display_name": "Python 3",
   "language": "python",
   "name": "python3"
  },
  "language_info": {
   "codemirror_mode": {
    "name": "ipython",
    "version": 3
   },
   "file_extension": ".py",
   "mimetype": "text/x-python",
   "name": "python",
   "nbconvert_exporter": "python",
   "pygments_lexer": "ipython3",
   "version": "3.8.5"
  }
 },
 "nbformat": 4,
 "nbformat_minor": 4
}
